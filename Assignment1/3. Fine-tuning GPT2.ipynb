{
  "nbformat": 4,
  "nbformat_minor": 0,
  "metadata": {
    "colab": {
      "provenance": [],
      "gpuType": "A100",
      "authorship_tag": "ABX9TyNEVysUK/Y53q9Ulp4CCm/T",
      "include_colab_link": true
    },
    "kernelspec": {
      "name": "python3",
      "display_name": "Python 3"
    },
    "language_info": {
      "name": "python"
    },
    "accelerator": "GPU"
  },
  "cells": [
    {
      "cell_type": "markdown",
      "metadata": {
        "id": "view-in-github",
        "colab_type": "text"
      },
      "source": [
        "<a href=\"https://colab.research.google.com/github/alierenc/di725-transformers-and-attention-based-deep-networks/blob/main/Assignment1/3.%20Fine-tuning%20GPT2.ipynb\" target=\"_parent\"><img src=\"https://colab.research.google.com/assets/colab-badge.svg\" alt=\"Open In Colab\"/></a>"
      ]
    },
    {
      "cell_type": "code",
      "execution_count": null,
      "metadata": {
        "colab": {
          "base_uri": "https://localhost:8080/"
        },
        "id": "kAJBci8_JBh4",
        "outputId": "a84c3a13-c449-4a3c-b407-5d2fb2c6aabb"
      },
      "outputs": [
        {
          "output_type": "stream",
          "name": "stdout",
          "text": [
            "Drive already mounted at /content/drive; to attempt to forcibly remount, call drive.mount(\"/content/drive\", force_remount=True).\n",
            "Requirement already satisfied: wandb in /usr/local/lib/python3.11/dist-packages (0.19.9)\n",
            "Requirement already satisfied: click!=8.0.0,>=7.1 in /usr/local/lib/python3.11/dist-packages (from wandb) (8.1.8)\n",
            "Requirement already satisfied: docker-pycreds>=0.4.0 in /usr/local/lib/python3.11/dist-packages (from wandb) (0.4.0)\n",
            "Requirement already satisfied: gitpython!=3.1.29,>=1.0.0 in /usr/local/lib/python3.11/dist-packages (from wandb) (3.1.44)\n",
            "Requirement already satisfied: platformdirs in /usr/local/lib/python3.11/dist-packages (from wandb) (4.3.7)\n",
            "Requirement already satisfied: protobuf!=4.21.0,!=5.28.0,<6,>=3.19.0 in /usr/local/lib/python3.11/dist-packages (from wandb) (5.29.4)\n",
            "Requirement already satisfied: psutil>=5.0.0 in /usr/local/lib/python3.11/dist-packages (from wandb) (5.9.5)\n",
            "Requirement already satisfied: pydantic<3 in /usr/local/lib/python3.11/dist-packages (from wandb) (2.11.1)\n",
            "Requirement already satisfied: pyyaml in /usr/local/lib/python3.11/dist-packages (from wandb) (6.0.2)\n",
            "Requirement already satisfied: requests<3,>=2.0.0 in /usr/local/lib/python3.11/dist-packages (from wandb) (2.32.3)\n",
            "Requirement already satisfied: sentry-sdk>=2.0.0 in /usr/local/lib/python3.11/dist-packages (from wandb) (2.25.1)\n",
            "Requirement already satisfied: setproctitle in /usr/local/lib/python3.11/dist-packages (from wandb) (1.3.5)\n",
            "Requirement already satisfied: setuptools in /usr/local/lib/python3.11/dist-packages (from wandb) (75.2.0)\n",
            "Requirement already satisfied: typing-extensions<5,>=4.4 in /usr/local/lib/python3.11/dist-packages (from wandb) (4.13.0)\n",
            "Requirement already satisfied: six>=1.4.0 in /usr/local/lib/python3.11/dist-packages (from docker-pycreds>=0.4.0->wandb) (1.17.0)\n",
            "Requirement already satisfied: gitdb<5,>=4.0.1 in /usr/local/lib/python3.11/dist-packages (from gitpython!=3.1.29,>=1.0.0->wandb) (4.0.12)\n",
            "Requirement already satisfied: annotated-types>=0.6.0 in /usr/local/lib/python3.11/dist-packages (from pydantic<3->wandb) (0.7.0)\n",
            "Requirement already satisfied: pydantic-core==2.33.0 in /usr/local/lib/python3.11/dist-packages (from pydantic<3->wandb) (2.33.0)\n",
            "Requirement already satisfied: typing-inspection>=0.4.0 in /usr/local/lib/python3.11/dist-packages (from pydantic<3->wandb) (0.4.0)\n",
            "Requirement already satisfied: charset-normalizer<4,>=2 in /usr/local/lib/python3.11/dist-packages (from requests<3,>=2.0.0->wandb) (3.4.1)\n",
            "Requirement already satisfied: idna<4,>=2.5 in /usr/local/lib/python3.11/dist-packages (from requests<3,>=2.0.0->wandb) (3.10)\n",
            "Requirement already satisfied: urllib3<3,>=1.21.1 in /usr/local/lib/python3.11/dist-packages (from requests<3,>=2.0.0->wandb) (2.3.0)\n",
            "Requirement already satisfied: certifi>=2017.4.17 in /usr/local/lib/python3.11/dist-packages (from requests<3,>=2.0.0->wandb) (2025.1.31)\n",
            "Requirement already satisfied: smmap<6,>=3.0.1 in /usr/local/lib/python3.11/dist-packages (from gitdb<5,>=4.0.1->gitpython!=3.1.29,>=1.0.0->wandb) (5.0.2)\n"
          ]
        },
        {
          "output_type": "stream",
          "name": "stderr",
          "text": [
            "\u001b[34m\u001b[1mwandb\u001b[0m: Using wandb-core as the SDK backend.  Please refer to https://wandb.me/wandb-core for more information.\n",
            "\u001b[34m\u001b[1mwandb\u001b[0m: Currently logged in as: \u001b[33maeren\u001b[0m to \u001b[32mhttps://api.wandb.ai\u001b[0m. Use \u001b[1m`wandb login --relogin`\u001b[0m to force relogin\n"
          ]
        },
        {
          "output_type": "stream",
          "name": "stdout",
          "text": [
            "Requirement already satisfied: transformers in /usr/local/lib/python3.11/dist-packages (4.50.3)\n",
            "Requirement already satisfied: datasets in /usr/local/lib/python3.11/dist-packages (3.5.0)\n",
            "Requirement already satisfied: filelock in /usr/local/lib/python3.11/dist-packages (from transformers) (3.18.0)\n",
            "Requirement already satisfied: huggingface-hub<1.0,>=0.26.0 in /usr/local/lib/python3.11/dist-packages (from transformers) (0.30.1)\n",
            "Requirement already satisfied: numpy>=1.17 in /usr/local/lib/python3.11/dist-packages (from transformers) (2.0.2)\n",
            "Requirement already satisfied: packaging>=20.0 in /usr/local/lib/python3.11/dist-packages (from transformers) (24.2)\n",
            "Requirement already satisfied: pyyaml>=5.1 in /usr/local/lib/python3.11/dist-packages (from transformers) (6.0.2)\n",
            "Requirement already satisfied: regex!=2019.12.17 in /usr/local/lib/python3.11/dist-packages (from transformers) (2024.11.6)\n",
            "Requirement already satisfied: requests in /usr/local/lib/python3.11/dist-packages (from transformers) (2.32.3)\n",
            "Requirement already satisfied: tokenizers<0.22,>=0.21 in /usr/local/lib/python3.11/dist-packages (from transformers) (0.21.1)\n",
            "Requirement already satisfied: safetensors>=0.4.3 in /usr/local/lib/python3.11/dist-packages (from transformers) (0.5.3)\n",
            "Requirement already satisfied: tqdm>=4.27 in /usr/local/lib/python3.11/dist-packages (from transformers) (4.67.1)\n",
            "Requirement already satisfied: pyarrow>=15.0.0 in /usr/local/lib/python3.11/dist-packages (from datasets) (18.1.0)\n",
            "Requirement already satisfied: dill<0.3.9,>=0.3.0 in /usr/local/lib/python3.11/dist-packages (from datasets) (0.3.8)\n",
            "Requirement already satisfied: pandas in /usr/local/lib/python3.11/dist-packages (from datasets) (2.2.2)\n",
            "Requirement already satisfied: xxhash in /usr/local/lib/python3.11/dist-packages (from datasets) (3.5.0)\n",
            "Requirement already satisfied: multiprocess<0.70.17 in /usr/local/lib/python3.11/dist-packages (from datasets) (0.70.16)\n",
            "Requirement already satisfied: fsspec<=2024.12.0,>=2023.1.0 in /usr/local/lib/python3.11/dist-packages (from fsspec[http]<=2024.12.0,>=2023.1.0->datasets) (2024.12.0)\n",
            "Requirement already satisfied: aiohttp in /usr/local/lib/python3.11/dist-packages (from datasets) (3.11.15)\n",
            "Requirement already satisfied: aiohappyeyeballs>=2.3.0 in /usr/local/lib/python3.11/dist-packages (from aiohttp->datasets) (2.6.1)\n",
            "Requirement already satisfied: aiosignal>=1.1.2 in /usr/local/lib/python3.11/dist-packages (from aiohttp->datasets) (1.3.2)\n",
            "Requirement already satisfied: attrs>=17.3.0 in /usr/local/lib/python3.11/dist-packages (from aiohttp->datasets) (25.3.0)\n",
            "Requirement already satisfied: frozenlist>=1.1.1 in /usr/local/lib/python3.11/dist-packages (from aiohttp->datasets) (1.5.0)\n",
            "Requirement already satisfied: multidict<7.0,>=4.5 in /usr/local/lib/python3.11/dist-packages (from aiohttp->datasets) (6.3.1)\n",
            "Requirement already satisfied: propcache>=0.2.0 in /usr/local/lib/python3.11/dist-packages (from aiohttp->datasets) (0.3.1)\n",
            "Requirement already satisfied: yarl<2.0,>=1.17.0 in /usr/local/lib/python3.11/dist-packages (from aiohttp->datasets) (1.18.3)\n",
            "Requirement already satisfied: typing-extensions>=3.7.4.3 in /usr/local/lib/python3.11/dist-packages (from huggingface-hub<1.0,>=0.26.0->transformers) (4.13.0)\n",
            "Requirement already satisfied: charset-normalizer<4,>=2 in /usr/local/lib/python3.11/dist-packages (from requests->transformers) (3.4.1)\n",
            "Requirement already satisfied: idna<4,>=2.5 in /usr/local/lib/python3.11/dist-packages (from requests->transformers) (3.10)\n",
            "Requirement already satisfied: urllib3<3,>=1.21.1 in /usr/local/lib/python3.11/dist-packages (from requests->transformers) (2.3.0)\n",
            "Requirement already satisfied: certifi>=2017.4.17 in /usr/local/lib/python3.11/dist-packages (from requests->transformers) (2025.1.31)\n",
            "Requirement already satisfied: python-dateutil>=2.8.2 in /usr/local/lib/python3.11/dist-packages (from pandas->datasets) (2.8.2)\n",
            "Requirement already satisfied: pytz>=2020.1 in /usr/local/lib/python3.11/dist-packages (from pandas->datasets) (2025.2)\n",
            "Requirement already satisfied: tzdata>=2022.7 in /usr/local/lib/python3.11/dist-packages (from pandas->datasets) (2025.2)\n",
            "Requirement already satisfied: six>=1.5 in /usr/local/lib/python3.11/dist-packages (from python-dateutil>=2.8.2->pandas->datasets) (1.17.0)\n"
          ]
        }
      ],
      "source": [
        "from google.colab import drive\n",
        "\n",
        "# Mount Google Drive to access dataset and save models\n",
        "drive.mount('/content/drive')\n",
        "\n",
        "# Load the dataset\n",
        "train_data_path = \"/content/drive/MyDrive/DI725 - Transformers and Attention-based Deep Networks/Assignment 1/train_data.csv\"\n",
        "val_data_path = \"/content/drive/MyDrive/DI725 - Transformers and Attention-based Deep Networks/Assignment 1/validation_data.csv\"\n",
        "test_data_path = \"/content/drive/MyDrive/DI725 - Transformers and Attention-based Deep Networks/Assignment 1/test_data.csv\"\n",
        "\n",
        "!pip install wandb\n",
        "\n",
        "import wandb\n",
        "wandb.login()\n",
        "\n",
        "!pip install transformers datasets"
      ]
    },
    {
      "cell_type": "code",
      "source": [
        "import pandas as pd\n",
        "import torch\n",
        "from torch.utils.data import DataLoader, TensorDataset\n",
        "from sklearn.preprocessing import LabelEncoder\n",
        "from transformers import GPT2Tokenizer\n",
        "\n",
        "# Load dataset from CSV\n",
        "def load_data(csv_file):\n",
        "    df = pd.read_csv(csv_file)\n",
        "    texts = df['conversation'].tolist()\n",
        "    labels = df['customer_sentiment'].tolist()\n",
        "    return texts, labels\n",
        "\n",
        "# Load train, validation, and test data\n",
        "train_texts, train_labels = load_data(train_data_path)\n",
        "val_texts, val_labels = load_data(val_data_path)\n",
        "test_texts, test_labels = load_data(test_data_path)\n",
        "\n",
        "# Label encoding\n",
        "label_encoder = LabelEncoder()\n",
        "train_labels = label_encoder.fit_transform(train_labels)\n",
        "val_labels = label_encoder.transform(val_labels)\n",
        "test_labels = label_encoder.transform(test_labels)\n",
        "\n",
        "# Load Hugging Face GPT-2 tokenizer\n",
        "tokenizer = GPT2Tokenizer.from_pretrained(\"gpt2\")\n",
        "tokenizer.pad_token = tokenizer.eos_token\n",
        "\n",
        "# Tokenization function\n",
        "def encode_data(texts, labels, tokenizer, max_length=256):\n",
        "    encodings = tokenizer(\n",
        "        texts,\n",
        "        truncation=True,\n",
        "        padding='max_length',\n",
        "        max_length=max_length,\n",
        "        return_tensors='pt'\n",
        "    )\n",
        "    labels = torch.tensor(labels)\n",
        "    return TensorDataset(encodings['input_ids'], encodings['attention_mask'], labels)\n",
        "\n",
        "# Create datasets\n",
        "train_dataset = encode_data(train_texts, train_labels, tokenizer)\n",
        "val_dataset = encode_data(val_texts, val_labels, tokenizer)\n",
        "test_dataset = encode_data(test_texts, test_labels, tokenizer)\n",
        "\n",
        "# DataLoaders\n",
        "batch_size = 12\n",
        "train_loader = DataLoader(train_dataset, batch_size=batch_size, shuffle=True)\n",
        "val_loader = DataLoader(val_dataset, batch_size=batch_size, shuffle=False)\n",
        "test_loader = DataLoader(test_dataset, batch_size=batch_size, shuffle=False)\n"
      ],
      "metadata": {
        "colab": {
          "base_uri": "https://localhost:8080/"
        },
        "id": "yk-JY3xWMtYy",
        "outputId": "3db72c48-ef5e-46c9-f65c-d17d269754d7"
      },
      "execution_count": null,
      "outputs": [
        {
          "output_type": "stream",
          "name": "stderr",
          "text": [
            "/usr/local/lib/python3.11/dist-packages/huggingface_hub/utils/_auth.py:94: UserWarning: \n",
            "The secret `HF_TOKEN` does not exist in your Colab secrets.\n",
            "To authenticate with the Hugging Face Hub, create a token in your settings tab (https://huggingface.co/settings/tokens), set it as secret in your Google Colab and restart your session.\n",
            "You will be able to reuse this secret in all of your notebooks.\n",
            "Please note that authentication is recommended but still optional to access public models or datasets.\n",
            "  warnings.warn(\n"
          ]
        }
      ]
    },
    {
      "cell_type": "code",
      "source": [
        "import os\n",
        "import time\n",
        "import torch\n",
        "from contextlib import nullcontext\n",
        "from sklearn.metrics import classification_report\n",
        "from torch.cuda.amp import GradScaler\n",
        "from transformers import GPT2ForSequenceClassification\n",
        "from torch.optim import AdamW\n",
        "\n",
        "# Initialize wandb\n",
        "wandb.init(project=\"sentiment_analysis_project\", name=\"gpt2_classification_run\")\n",
        "\n",
        "# Training config\n",
        "out_dir = 'out'\n",
        "os.makedirs(out_dir, exist_ok=True)\n",
        "\n",
        "eval_interval = 50\n",
        "log_interval = 50\n",
        "max_iters = 1000\n",
        "always_save_checkpoint = True\n",
        "\n",
        "gradient_accumulation_steps = 2\n",
        "# batch_size = 12\n",
        "\n",
        "learning_rate = 6e-4\n",
        "weight_decay = 1e-1\n",
        "beta1 = 0.9\n",
        "beta2 = 0.95\n",
        "grad_clip = 1.0\n",
        "\n",
        "device = 'cuda' if torch.cuda.is_available() else 'cpu'\n",
        "dtype = 'bfloat16' if torch.cuda.is_available() and torch.cuda.is_bf16_supported() else 'float16'\n",
        "device_type = 'cuda' if 'cuda' in device else 'cpu'\n",
        "ptdtype = {'float32': torch.float32, 'bfloat16': torch.bfloat16, 'float16': torch.float16}[dtype]\n",
        "ctx = nullcontext() if device_type == 'cpu' else torch.amp.autocast(device_type=device_type, dtype=ptdtype)\n",
        "\n",
        "# Load pretrained GPT-2 model for classification\n",
        "model = GPT2ForSequenceClassification.from_pretrained(\"gpt2\", num_labels=3)\n",
        "model.config.pad_token_id = model.config.eos_token_id\n",
        "model.to(device)\n",
        "\n",
        "# Optimizer\n",
        "optimizer = AdamW(model.parameters(), lr=learning_rate, betas=(beta1, beta2), weight_decay=weight_decay)\n",
        "scaler = GradScaler()\n",
        "\n",
        "# Dataloaders assumed to be: train_loader, val_loader (already created)\n",
        "train_iter = iter(train_loader)\n",
        "val_iter = iter(val_loader)\n",
        "\n",
        "def get_batch(split):\n",
        "    global train_iter, val_iter\n",
        "    try:\n",
        "        if split == 'train':\n",
        "            x, attn_mask, y = next(train_iter)\n",
        "        else:\n",
        "            x, attn_mask, y = next(val_iter)\n",
        "    except StopIteration:\n",
        "        if split == 'train':\n",
        "            train_iter = iter(train_loader)\n",
        "            x, attn_mask, y = next(train_iter)\n",
        "        else:\n",
        "            val_iter = iter(val_loader)\n",
        "            x, attn_mask, y = next(val_iter)\n",
        "    return x.to(device), attn_mask.to(device), y.to(device)\n",
        "\n",
        "@torch.no_grad()\n",
        "def estimate_loss():\n",
        "    out = {}\n",
        "    model.eval()\n",
        "    for split, loader in [('train', train_loader), ('val', val_loader)]:\n",
        "        losses, correct, total = [], 0, 0\n",
        "        for x, attn_mask, y in loader:\n",
        "            x, attn_mask, y = x.to(device), attn_mask.to(device), y.to(device)\n",
        "            outputs = model(input_ids=x, attention_mask=attn_mask, labels=y)\n",
        "            losses.append(outputs.loss.item())\n",
        "            preds = outputs.logits.argmax(dim=1)\n",
        "            correct += (preds == y).sum().item()\n",
        "            total += y.size(0)\n",
        "        out[split] = sum(losses) / len(losses)\n",
        "        out[f\"{split}_acc\"] = correct / total\n",
        "    model.train()\n",
        "    return out\n",
        "\n",
        "# Early stopping setup\n",
        "val_loss_history = []\n",
        "early_stop_patience = 10\n",
        "\n",
        "# Training loop\n",
        "iter_num = 0\n",
        "best_val_loss = float('inf')\n",
        "t0 = time.time()\n",
        "\n",
        "while iter_num <= max_iters:\n",
        "    lr = learning_rate\n",
        "    for param_group in optimizer.param_groups:\n",
        "        param_group['lr'] = lr\n",
        "\n",
        "    # Evaluate and log\n",
        "    if iter_num % eval_interval == 0:\n",
        "        losses = estimate_loss()\n",
        "        val_loss = losses['val']\n",
        "        print(f\"step {iter_num}: train loss {losses['train']:.4f}, train acc {losses['train_acc']:.4f}, val loss {val_loss:.4f}, val acc {losses['val_acc']:.4f}\")\n",
        "        wandb.log({\n",
        "            \"train/loss\": losses['train'],\n",
        "            \"train/accuracy\": losses['train_acc'],\n",
        "            \"val/loss\": val_loss,\n",
        "            \"val/accuracy\": losses['val_acc'],\n",
        "            \"step\": iter_num\n",
        "        })\n",
        "\n",
        "        val_loss_history.append(val_loss)\n",
        "        if len(val_loss_history) > early_stop_patience:\n",
        "            val_loss_history.pop(0)\n",
        "            if all(val_loss >= prev for prev in val_loss_history):\n",
        "                print(f\"Early stopping: No improvement in val loss for {early_stop_patience} evaluations.\")\n",
        "                break\n",
        "\n",
        "        if val_loss < best_val_loss or always_save_checkpoint:\n",
        "            best_val_loss = val_loss\n",
        "            checkpoint = {\n",
        "                'model': model.state_dict(),\n",
        "                'optimizer': optimizer.state_dict(),\n",
        "                'iter_num': iter_num,\n",
        "                'best_val_loss': best_val_loss,\n",
        "            }\n",
        "            torch.save(checkpoint, os.path.join(out_dir, 'ckpt.pt'))\n",
        "\n",
        "    # Training step with accumulation\n",
        "    for micro_step in range(gradient_accumulation_steps):\n",
        "        x, attn_mask, y = get_batch('train')\n",
        "        with ctx:\n",
        "            outputs = model(input_ids=x, attention_mask=attn_mask, labels=y)\n",
        "            loss = outputs.loss / gradient_accumulation_steps\n",
        "        scaler.scale(loss).backward()\n",
        "\n",
        "    if grad_clip != 0.0:\n",
        "        scaler.unscale_(optimizer)\n",
        "        torch.nn.utils.clip_grad_norm_(model.parameters(), grad_clip)\n",
        "    scaler.step(optimizer)\n",
        "    scaler.update()\n",
        "    optimizer.zero_grad(set_to_none=True)\n",
        "\n",
        "    if iter_num % log_interval == 0:\n",
        "        print(f\"iter {iter_num}: loss {loss.item() * gradient_accumulation_steps:.4f}, time {(time.time()-t0)*1000:.2f}ms\")\n",
        "        wandb.log({\"train/batch_loss\": loss.item() * gradient_accumulation_steps, \"step\": iter_num})\n",
        "        t0 = time.time()\n",
        "\n",
        "    iter_num += 1\n"
      ],
      "metadata": {
        "colab": {
          "base_uri": "https://localhost:8080/",
          "height": 590
        },
        "id": "kd3sdc9IO-ma",
        "outputId": "cc011fa9-946e-4351-b7a0-ed3cb0bbe10b"
      },
      "execution_count": null,
      "outputs": [
        {
          "output_type": "display_data",
          "data": {
            "text/plain": [
              "<IPython.core.display.HTML object>"
            ],
            "text/html": [
              "Tracking run with wandb version 0.19.9"
            ]
          },
          "metadata": {}
        },
        {
          "output_type": "display_data",
          "data": {
            "text/plain": [
              "<IPython.core.display.HTML object>"
            ],
            "text/html": [
              "Run data is saved locally in <code>/content/wandb/run-20250404_183400-w6f439bv</code>"
            ]
          },
          "metadata": {}
        },
        {
          "output_type": "display_data",
          "data": {
            "text/plain": [
              "<IPython.core.display.HTML object>"
            ],
            "text/html": [
              "Syncing run <strong><a href='https://wandb.ai/aeren/sentiment_analysis_project/runs/w6f439bv' target=\"_blank\">gpt2_classification_run</a></strong> to <a href='https://wandb.ai/aeren/sentiment_analysis_project' target=\"_blank\">Weights & Biases</a> (<a href='https://wandb.me/developer-guide' target=\"_blank\">docs</a>)<br>"
            ]
          },
          "metadata": {}
        },
        {
          "output_type": "display_data",
          "data": {
            "text/plain": [
              "<IPython.core.display.HTML object>"
            ],
            "text/html": [
              " View project at <a href='https://wandb.ai/aeren/sentiment_analysis_project' target=\"_blank\">https://wandb.ai/aeren/sentiment_analysis_project</a>"
            ]
          },
          "metadata": {}
        },
        {
          "output_type": "display_data",
          "data": {
            "text/plain": [
              "<IPython.core.display.HTML object>"
            ],
            "text/html": [
              " View run at <a href='https://wandb.ai/aeren/sentiment_analysis_project/runs/w6f439bv' target=\"_blank\">https://wandb.ai/aeren/sentiment_analysis_project/runs/w6f439bv</a>"
            ]
          },
          "metadata": {}
        },
        {
          "output_type": "stream",
          "name": "stderr",
          "text": [
            "Some weights of GPT2ForSequenceClassification were not initialized from the model checkpoint at gpt2 and are newly initialized: ['score.weight']\n",
            "You should probably TRAIN this model on a down-stream task to be able to use it for predictions and inference.\n",
            "<ipython-input-3-93e702263e5c>:44: FutureWarning: `torch.cuda.amp.GradScaler(args...)` is deprecated. Please use `torch.amp.GradScaler('cuda', args...)` instead.\n",
            "  scaler = GradScaler()\n"
          ]
        },
        {
          "output_type": "stream",
          "name": "stdout",
          "text": [
            "step 0: train loss 12.4876, train acc 0.0399, val loss 13.0434, val acc 0.0309\n",
            "iter 0: loss 13.4948, time 5540.35ms\n",
            "step 50: train loss 0.5557, train acc 0.7951, val loss 0.8141, val acc 0.7268\n",
            "iter 50: loss 0.6946, time 10476.13ms\n",
            "step 100: train loss 0.2135, train acc 0.9278, val loss 0.6154, val acc 0.7938\n",
            "iter 100: loss 0.2293, time 10766.31ms\n",
            "step 150: train loss 0.1046, train acc 0.9716, val loss 1.0515, val acc 0.8196\n",
            "iter 150: loss 0.9545, time 10432.26ms\n",
            "step 200: train loss 0.0844, train acc 0.9716, val loss 1.1436, val acc 0.7887\n",
            "iter 200: loss 0.3830, time 11624.52ms\n",
            "step 250: train loss 0.0048, train acc 0.9987, val loss 1.3592, val acc 0.7938\n",
            "iter 250: loss 0.0006, time 10757.89ms\n",
            "step 300: train loss 0.0333, train acc 0.9936, val loss 1.6475, val acc 0.8144\n",
            "iter 300: loss 0.0000, time 10512.19ms\n",
            "step 350: train loss 0.0241, train acc 0.9948, val loss 1.7146, val acc 0.8351\n",
            "iter 350: loss 0.5052, time 10510.35ms\n",
            "step 400: train loss 0.0153, train acc 0.9948, val loss 1.5121, val acc 0.7990\n",
            "iter 400: loss 0.0004, time 10669.44ms\n",
            "step 450: train loss 0.0001, train acc 1.0000, val loss 1.3065, val acc 0.8041\n",
            "iter 450: loss 0.0020, time 10731.39ms\n",
            "step 500: train loss 0.0002, train acc 1.0000, val loss 1.4441, val acc 0.8247\n",
            "iter 500: loss 0.0002, time 10654.12ms\n",
            "step 550: train loss 0.0000, train acc 1.0000, val loss 2.0137, val acc 0.8454\n",
            "Early stopping: No improvement in val loss for 10 evaluations.\n"
          ]
        }
      ]
    },
    {
      "cell_type": "code",
      "source": [
        "from sklearn.metrics import (\n",
        "    confusion_matrix, accuracy_score, classification_report\n",
        ")\n",
        "import matplotlib.pyplot as plt\n",
        "import seaborn as sns\n",
        "import torch\n",
        "import numpy as np\n",
        "\n",
        "# Evaluate the model on the test set\n",
        "model.eval()\n",
        "\n",
        "predictions = []\n",
        "true_labels = []\n",
        "\n",
        "with torch.no_grad():\n",
        "    for batch in test_loader:\n",
        "        input_ids, attention_mask, labels = [b.to(device) for b in batch]\n",
        "\n",
        "        outputs = model(input_ids=input_ids, attention_mask=attention_mask)\n",
        "        logits = outputs.logits\n",
        "        predicted_labels = logits.argmax(dim=-1).cpu().numpy()\n",
        "\n",
        "        predictions.extend(predicted_labels)\n",
        "        true_labels.extend(labels.cpu().numpy())\n",
        "\n",
        "# Confusion matrix\n",
        "conf_matrix = confusion_matrix(true_labels, predictions)\n",
        "\n",
        "# Overall accuracy\n",
        "overall_accuracy = accuracy_score(true_labels, predictions)\n",
        "print(f\"\\nOverall Accuracy: {overall_accuracy * 100:.2f}%\")\n",
        "\n",
        "# Class-wise accuracy\n",
        "class_accuracy = conf_matrix.diagonal() / conf_matrix.sum(axis=1)\n",
        "print(\"\\nClass-wise Accuracy:\")\n",
        "for i, acc in enumerate(class_accuracy):\n",
        "    print(f\"  Class {i} ({label_encoder.classes_[i]}): {acc * 100:.2f}%\")\n",
        "\n",
        "# Classification report\n",
        "print(\"\\nClassification Report:\")\n",
        "report = classification_report(true_labels, predictions, target_names=label_encoder.classes_)\n",
        "print(report)\n",
        "\n",
        "# Print confusion matrix\n",
        "ordered_labels = ['negative', 'neutral', 'positive']\n",
        "ordered_indices = [list(label_encoder.classes_).index(label) for label in ordered_labels]\n",
        "\n",
        "reordered_conf_matrix = conf_matrix[np.ix_(ordered_indices, ordered_indices)]\n",
        "\n",
        "# Print confusion matrix\n",
        "print(\"\\nConfusion Matrix (as table):\")\n",
        "print(\"{:<10}\".format(\"\"), end=\"\")\n",
        "for label in ordered_labels:\n",
        "    print(\"{:<10}\".format(label), end=\"\")\n",
        "print()\n",
        "\n",
        "for i, row_idx in enumerate(ordered_indices):\n",
        "    row_label = ordered_labels[i]\n",
        "    print(\"{:<10}\".format(row_label), end=\"\")\n",
        "    for col_idx in ordered_indices:\n",
        "        print(\"{:<10}\".format(conf_matrix[row_idx][col_idx]), end=\"\")\n",
        "    print()\n",
        "\n",
        "\n",
        "# Plot confusion matrix heatmap\n",
        "plt.figure(figsize=(8, 6))\n",
        "sns.heatmap(conf_matrix, annot=True, fmt='d', cmap='Blues',\n",
        "            xticklabels=class_labels, yticklabels=class_labels)\n",
        "plt.xlabel('Predicted')\n",
        "plt.ylabel('True')\n",
        "plt.title('Confusion Matrix')\n",
        "plt.tight_layout()\n",
        "plt.show()\n"
      ],
      "metadata": {
        "colab": {
          "base_uri": "https://localhost:8080/",
          "height": 1000
        },
        "id": "4axIjj6OQPIK",
        "outputId": "8c155e86-7357-473e-cb69-c0fa3f152d70"
      },
      "execution_count": null,
      "outputs": [
        {
          "output_type": "stream",
          "name": "stdout",
          "text": [
            "\n",
            "Overall Accuracy: 66.67%\n",
            "\n",
            "Class-wise Accuracy:\n",
            "  Class 0 (negative): 90.00%\n",
            "  Class 1 (neutral): 90.00%\n",
            "  Class 2 (positive): 20.00%\n",
            "\n",
            "Classification Report:\n",
            "              precision    recall  f1-score   support\n",
            "\n",
            "    negative       0.90      0.90      0.90        10\n",
            "     neutral       0.50      0.90      0.64        10\n",
            "    positive       1.00      0.20      0.33        10\n",
            "\n",
            "    accuracy                           0.67        30\n",
            "   macro avg       0.80      0.67      0.63        30\n",
            "weighted avg       0.80      0.67      0.63        30\n",
            "\n",
            "\n",
            "Confusion Matrix (as table):\n",
            "          negative  neutral   positive  \n",
            "negative  9         1         0         \n",
            "neutral   1         9         0         \n",
            "positive  0         8         2         \n"
          ]
        },
        {
          "output_type": "display_data",
          "data": {
            "text/plain": [
              "<Figure size 800x600 with 2 Axes>"
            ],
            "image/png": "[encoded data removed]"
          },
          "metadata": {}
        }
      ]
    },
    {
      "cell_type": "code",
      "source": [],
      "metadata": {
        "id": "rppdt1lIRfac"
      },
      "execution_count": null,
      "outputs": []
    }
  ]
}